{
  "nbformat": 4,
  "nbformat_minor": 0,
  "metadata": {
    "colab": {
      "provenance": [],
      "authorship_tag": "ABX9TyPz6AaqOARDRUPsYd52TJNh",
      "include_colab_link": true
    },
    "kernelspec": {
      "name": "python3",
      "display_name": "Python 3"
    },
    "language_info": {
      "name": "python"
    }
  },
  "cells": [
    {
      "cell_type": "markdown",
      "metadata": {
        "id": "view-in-github",
        "colab_type": "text"
      },
      "source": [
        "<a href=\"https://colab.research.google.com/github/Khagendra-12/AdvancedPython/blob/main/AdvPyAsm.ipynb\" target=\"_parent\"><img src=\"https://colab.research.google.com/assets/colab-badge.svg\" alt=\"Open In Colab\"/></a>"
      ]
    },
    {
      "cell_type": "markdown",
      "source": [
        "# **Advance Python Assignments**"
      ],
      "metadata": {
        "id": "VEMSOnLJD49x"
      }
    },
    {
      "cell_type": "markdown",
      "source": [
        "# **Part I: Process Automation**"
      ],
      "metadata": {
        "id": "m3h5Jd1vECfZ"
      }
    },
    {
      "cell_type": "markdown",
      "source": [
        "# Q1. Create a file that contains 1000 lines of random strings."
      ],
      "metadata": {
        "id": "_2NAIDK-EHxT"
      }
    },
    {
      "cell_type": "code",
      "execution_count": null,
      "metadata": {
        "colab": {
          "base_uri": "https://localhost:8080/"
        },
        "id": "sKGKYM3GDzDP",
        "outputId": "444b0043-db48-48d5-8176-a1d3c978641a"
      },
      "outputs": [
        {
          "output_type": "stream",
          "name": "stdout",
          "text": [
            "1000 Lines of random strings added to '1kstr.txt'.\n"
          ]
        }
      ],
      "source": [
        "import random as rad\n",
        "import string as s\n",
        "\n",
        "fp = open('1kstr.txt', 'w')\n",
        "for _ in range(1000):\n",
        "  words = []\n",
        "  for _ in range(rad.randint(5, 10)):\n",
        "    radstr = ''.join(rad.choices(s.ascii_letters, k=rad.randint(3, 12)))\n",
        "    words.append(radstr)\n",
        "  radsen = ' '.join(words)\n",
        "  fp.write(f\"{radsen}\\n\")\n",
        "fp.close\n",
        "print(\"1000 Lines of random strings added to '1kstr.txt'.\")"
      ]
    },
    {
      "cell_type": "markdown",
      "source": [
        "# Q2. Create a file that contains multiple lines of random strings and file size must be 5 MB."
      ],
      "metadata": {
        "id": "WVEobFZmK61n"
      }
    },
    {
      "cell_type": "code",
      "source": [
        "import os\n",
        "import random as rad\n",
        "import string as s\n",
        "\n",
        "fp = open('5MB.txt', 'w')\n",
        "\n",
        "while os.path.getsize('5MB.txt') < (5 *1024 *1024):\n",
        "  words = []\n",
        "  for _ in range(rad.randint(5, 10)):\n",
        "    radstr = ''.join(rad.choices(s.ascii_letters, k=rad.randint(3, 12)))\n",
        "    words.append(radstr)\n",
        "  radsen = ' '.join(words)\n",
        "  fp.write(f\"{radsen}\\n\")\n",
        "fp.close()\n",
        "\n",
        "print(\"Created a file with less than 5MB of data with random strings.\")\n"
      ],
      "metadata": {
        "colab": {
          "base_uri": "https://localhost:8080/"
        },
        "id": "AhA69REULBdH",
        "outputId": "a96848cc-f758-49c6-852d-38b0a1e083de"
      },
      "execution_count": null,
      "outputs": [
        {
          "output_type": "stream",
          "name": "stdout",
          "text": [
            "Created a file with less than 5MB of data with random strings.\n"
          ]
        }
      ]
    },
    {
      "cell_type": "markdown",
      "source": [
        "# Q3. Create 10 files that contains multiple lines of random strings and file size of each file must be 5 MB.\n"
      ],
      "metadata": {
        "id": "V6cayg26NEPB"
      }
    },
    {
      "cell_type": "code",
      "source": [
        "import os\n",
        "import random as rad\n",
        "import string as s\n",
        "\n",
        "def file5MB(x):\n",
        "  filen = f\"5MB({x}).txt\"\n",
        "  fp = open(filen, 'w')\n",
        "  while os.path.getsize(filen) < (5 *1024 *1024):\n",
        "    words = []\n",
        "    for _ in range(rad.randint(5, 10)):\n",
        "      radstr = ''.join(rad.choices(s.ascii_letters, k=rad.randint(3, 12)))\n",
        "      words.append(radstr)\n",
        "    radsen = ' '.join(words)\n",
        "    fp.write(f\"{radsen}\\n\")\n",
        "  fp.close()\n",
        "\n",
        "for i in range (1,11):\n",
        "  file5MB(i)\n",
        "\n",
        "print(\"Created 10 files with less than 5MB of data with random strings.\")\n"
      ],
      "metadata": {
        "colab": {
          "base_uri": "https://localhost:8080/"
        },
        "id": "UFjG9Z-rNM3K",
        "outputId": "b2d499a5-e10c-4452-8378-4442036c8510"
      },
      "execution_count": null,
      "outputs": [
        {
          "output_type": "stream",
          "name": "stdout",
          "text": [
            "Created 10 files with less than 5MB of data with random strings.\n"
          ]
        }
      ]
    },
    {
      "cell_type": "markdown",
      "source": [
        "# Q4. Create 5 files of size 1GB, 2GB, 3GB, 4GB and 5GB; file contains multiple lines of random strings."
      ],
      "metadata": {
        "id": "HYdOM-tQPTfo"
      }
    },
    {
      "cell_type": "code",
      "source": [
        "import os\n",
        "import random as rad\n",
        "import string as s\n",
        "\n",
        "def fileGB(x):\n",
        "  filen = f\"{x}GB.txt\"\n",
        "  with open(filen, 'w') as fp:\n",
        "    while os.path.getsize(filen) < (x *1024 *1024 *1024):\n",
        "      words = []\n",
        "      for _ in range(rad.randint(5, 10)):\n",
        "        radstr = ''.join(rad.choices(s.ascii_letters, k=rad.randint(3, 12)))\n",
        "        words.append(radstr)\n",
        "      radsen = ' '.join(words)\n",
        "      fp.write(f\"{radsen}\\n\")\n",
        "\n",
        "for i in range (1,6):\n",
        "  print(f\"Creating {i}GB file...\")\n",
        "  fileGB(i)\n",
        "  print(f\"{i}GB.txt created.\")\n",
        "\n",
        "print(\"Created files with 1GB, 2GB, 3GB, 4GB and 5GB of data with random strings.\")"
      ],
      "metadata": {
        "colab": {
          "base_uri": "https://localhost:8080/"
        },
        "id": "XhJQPeGvPY3e",
        "outputId": "5471e6dc-6540-4cd0-b6c9-977d778dc57b"
      },
      "execution_count": null,
      "outputs": [
        {
          "output_type": "stream",
          "name": "stdout",
          "text": [
            "Creating 1GB file...\n",
            "1GB.txt created.\n",
            "Created files with 1GB, 2GB, 3GB, 4GB and 5GB of data with random strings.\n"
          ]
        }
      ]
    },
    {
      "cell_type": "markdown",
      "source": [
        "# Q5. Convert all the files of Q4 into upper case one by one."
      ],
      "metadata": {
        "id": "t_2j_IMNTsy8"
      }
    },
    {
      "cell_type": "code",
      "source": [
        "def upfile(x):\n",
        "  filen = f\"{x}GB.txt\"\n",
        "  with open(filen, 'r') as fp:\n",
        "    text = fp.read()\n",
        "    uppertxt = text.upper()\n",
        "  with open(filen, 'w') as fp:\n",
        "    fp.write(uppertxt)\n",
        "\n",
        "for i in range (1,6):\n",
        "  print(f\"Converting {i}GB file to uppercase...\")\n",
        "  upfile(i)\n",
        "  print(f\"{i}GB.txt converted to uppercase.\")\n",
        "\n",
        "print(\"Converted files with 1GB, 2GB, 3GB, 4GB and 5GB of data with random strings to upper-case.\")"
      ],
      "metadata": {
        "colab": {
          "base_uri": "https://localhost:8080/"
        },
        "id": "sNfTSBjiU8hf",
        "outputId": "a2eff2cd-3c06-4933-80ab-3fa6e6ceb70b"
      },
      "execution_count": null,
      "outputs": [
        {
          "output_type": "stream",
          "name": "stdout",
          "text": [
            "Converting 1GB file to uppercase...\n",
            "1GB.txt converted to uppercase.\n",
            "Converted files with 1GB, 2GB, 3GB, 4GB and 5GB of data with random strings to upper-case.\n"
          ]
        }
      ]
    },
    {
      "cell_type": "markdown",
      "source": [
        "# Q6. Convert all the files of Q4 into upper case parallel using multi-threading."
      ],
      "metadata": {
        "id": "Ctid5OS4bkd0"
      }
    },
    {
      "cell_type": "markdown",
      "source": [
        "Creating files using threading."
      ],
      "metadata": {
        "id": "s_4oEYc0djYM"
      }
    },
    {
      "cell_type": "code",
      "source": [
        "import os\n",
        "import random as rad\n",
        "import string as s\n",
        "import threading\n",
        "\n",
        "def fileGB(x):\n",
        "  filen = f\"{x}GB.txt\"\n",
        "  print(f\"Creating file with {x}GB of data.\")\n",
        "  with open(filen, 'w') as fp:\n",
        "    while os.path.getsize(filen) < (x *1024 *1024 *1024):\n",
        "      words = []\n",
        "      for _ in range(rad.randint(5, 10)):\n",
        "        radstr = ''.join(rad.choices(s.ascii_letters, k=rad.randint(3, 12)))\n",
        "        words.append(radstr)\n",
        "      radsen = ' '.join(words)\n",
        "      fp.write(f\"{radsen}\\n\")\n",
        "    print(f\"File with {x}GB of data created.\")\n",
        "\n",
        "files = []\n",
        "for i in range(1,6):\n",
        "  create = threading.Thread(target=fileGB, args=(i,))\n",
        "  files.append(create)\n",
        "  create.start()\n",
        "\n",
        "for i in files:\n",
        "  i.join()\n",
        "\n",
        "print(\"Created files containg 1GB, 2GB, 3GB, 4GB and 5GB of data using threading.\")"
      ],
      "metadata": {
        "id": "lfLlhjeoboLm",
        "colab": {
          "base_uri": "https://localhost:8080/"
        },
        "outputId": "c1a24263-f6e9-4da2-9ce6-3b4eb6b30e32"
      },
      "execution_count": null,
      "outputs": [
        {
          "output_type": "stream",
          "name": "stdout",
          "text": [
            "Creating file with 1GB of data.\n",
            "Creating file with 2GB of data.\n",
            "Creating file with 3GB of data.\n",
            "File with 2GB of data created.\n",
            "Creating file with 4GB of data.\n",
            "Creating file with 5GB of data.\n",
            "File with 1GB of data created.\n",
            "File with 3GB of data created.\n",
            "File with 4GB of data created.\n",
            "File with 5GB of data created.\n",
            "Created files containg 1GB, 2GB, 3GB, 4GB and 5GB of data using threading.\n"
          ]
        }
      ]
    },
    {
      "cell_type": "markdown",
      "source": [
        "Converting files to uppercase using threading."
      ],
      "metadata": {
        "id": "mtHmhPAKdoDC"
      }
    },
    {
      "cell_type": "code",
      "source": [
        "def upfile(x):\n",
        "  filen = f\"{x}GB.txt\"\n",
        "  print(f\"Reading file with {x}GB of data.\")\n",
        "  with open(filen, 'r') as fp:\n",
        "    text = fp.read()\n",
        "    uppertxt = text.upper()\n",
        "  print(f\"Converting file with {x}GB of data to uppercase.\")\n",
        "  with open(filen, 'w') as fp:\n",
        "    fp.write(uppertxt)\n",
        "  print(f\"Converted file with {x}GB of data to uppercase.\")\n",
        "\n",
        "upperfiles = []\n",
        "for i in range(1,6):\n",
        "  upper = threading.Thread(target=upfile, args=(i,))\n",
        "  upperfiles.append(upper)\n",
        "  upper.start()\n",
        "\n",
        "for i in upperfiles:\n",
        "  i.join()\n",
        "\n",
        "print(\"Converted files with 1GB, 2GB, 3GB, 4GB and 5GB of data to uppercase using threading.\")"
      ],
      "metadata": {
        "colab": {
          "base_uri": "https://localhost:8080/"
        },
        "id": "56EsdAK8dfRQ",
        "outputId": "40f5c2e2-865e-4016-cf32-c2bf891bf617"
      },
      "execution_count": null,
      "outputs": [
        {
          "output_type": "stream",
          "name": "stdout",
          "text": [
            "Reading file with 1GB of data.\n",
            "Converting file with 1GB of data to uppercase.\n",
            "Reading file with 2GB of data.\n",
            "Reading file with 3GB of data.\n",
            "Reading file with 4GB of data.\n",
            "Reading file with 5GB of data.\n",
            "Converted file with 1GB of data to uppercase.\n",
            "Converting file with 3GB of data to uppercase.\n",
            "Converting file with 4GB of data to uppercase.\n",
            "Converted file with 4GB of data to uppercase.\n",
            "Converting file with 5GB of data to uppercase.\n",
            "Converted file with 3GB of data to uppercase.\n",
            "Converted file with 5GB of data to uppercase.\n",
            "Converting file with 2GB of data to uppercase.\n",
            "Converted file with 2GB of data to uppercase.\n",
            "Converted files with 1GB, 2GB, 3GB, 4GB and 5GB of data to uppercase using threading.\n"
          ]
        }
      ]
    },
    {
      "cell_type": "markdown",
      "source": [
        "# Q7. WAP to automatically download 10 images of cat from “Google Images”. [Hint: Find the package from\n",
        "pypi.org and use it]\n"
      ],
      "metadata": {
        "id": "CLYXcGYIvVqb"
      }
    },
    {
      "cell_type": "code",
      "source": [
        "from icrawler.builtin import GoogleImageCrawler\n",
        "\n",
        "googlepics = GoogleImageCrawler(storage = {'root_dir': 'catpics'})\n",
        "googlepics.crawl(keyword = 'cat', max_num = 10)\n",
        "print(\"Downloaded 10 images of cat from Google Images.\")"
      ],
      "metadata": {
        "colab": {
          "base_uri": "https://localhost:8080/",
          "height": 383
        },
        "id": "6Fw3yB01vaKa",
        "outputId": "c09cfd07-042f-4907-f73f-8425f3dec057"
      },
      "execution_count": null,
      "outputs": [
        {
          "output_type": "error",
          "ename": "ModuleNotFoundError",
          "evalue": "No module named 'icrawler'",
          "traceback": [
            "\u001b[0;31m---------------------------------------------------------------------------\u001b[0m",
            "\u001b[0;31mModuleNotFoundError\u001b[0m                       Traceback (most recent call last)",
            "\u001b[0;32m<ipython-input-23-2909611003>\u001b[0m in \u001b[0;36m<cell line: 0>\u001b[0;34m()\u001b[0m\n\u001b[0;32m----> 1\u001b[0;31m \u001b[0;32mfrom\u001b[0m \u001b[0micrawler\u001b[0m\u001b[0;34m.\u001b[0m\u001b[0mbuiltin\u001b[0m \u001b[0;32mimport\u001b[0m \u001b[0mGoogleImageCrawler\u001b[0m\u001b[0;34m\u001b[0m\u001b[0;34m\u001b[0m\u001b[0m\n\u001b[0m\u001b[1;32m      2\u001b[0m \u001b[0;34m\u001b[0m\u001b[0m\n\u001b[1;32m      3\u001b[0m \u001b[0mgooglepics\u001b[0m \u001b[0;34m=\u001b[0m \u001b[0mGoogleImageCrawler\u001b[0m\u001b[0;34m(\u001b[0m\u001b[0mstorage\u001b[0m \u001b[0;34m=\u001b[0m \u001b[0;34m{\u001b[0m\u001b[0;34m'root_dir'\u001b[0m\u001b[0;34m:\u001b[0m \u001b[0;34m'catpics'\u001b[0m\u001b[0;34m}\u001b[0m\u001b[0;34m)\u001b[0m\u001b[0;34m\u001b[0m\u001b[0;34m\u001b[0m\u001b[0m\n\u001b[1;32m      4\u001b[0m \u001b[0mgooglepics\u001b[0m\u001b[0;34m.\u001b[0m\u001b[0mcrawl\u001b[0m\u001b[0;34m(\u001b[0m\u001b[0mkeyword\u001b[0m \u001b[0;34m=\u001b[0m \u001b[0;34m'cat'\u001b[0m\u001b[0;34m,\u001b[0m \u001b[0mmax_num\u001b[0m \u001b[0;34m=\u001b[0m \u001b[0;36m10\u001b[0m\u001b[0;34m)\u001b[0m\u001b[0;34m\u001b[0m\u001b[0;34m\u001b[0m\u001b[0m\n\u001b[1;32m      5\u001b[0m \u001b[0mprint\u001b[0m\u001b[0;34m(\u001b[0m\u001b[0;34m\"Downloaded 10 images of cat from Google Images.\"\u001b[0m\u001b[0;34m)\u001b[0m\u001b[0;34m\u001b[0m\u001b[0;34m\u001b[0m\u001b[0m\n",
            "\u001b[0;31mModuleNotFoundError\u001b[0m: No module named 'icrawler'",
            "",
            "\u001b[0;31m---------------------------------------------------------------------------\u001b[0;32m\nNOTE: If your import is failing due to a missing package, you can\nmanually install dependencies using either !pip or !apt.\n\nTo view examples of installing some common dependencies, click the\n\"Open Examples\" button below.\n\u001b[0;31m---------------------------------------------------------------------------\u001b[0m\n"
          ],
          "errorDetails": {
            "actions": [
              {
                "action": "open_url",
                "actionText": "Open Examples",
                "url": "/notebooks/snippets/importing_libraries.ipynb"
              }
            ]
          }
        }
      ]
    }
  ]
}